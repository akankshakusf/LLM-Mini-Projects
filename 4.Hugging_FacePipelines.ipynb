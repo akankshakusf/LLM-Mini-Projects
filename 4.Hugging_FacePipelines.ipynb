{
  "nbformat": 4,
  "nbformat_minor": 0,
  "metadata": {
    "colab": {
      "provenance": [],
      "authorship_tag": "ABX9TyOghRBObaU+rilbGw4oumYz",
      "include_colab_link": true
    },
    "kernelspec": {
      "name": "python3",
      "display_name": "Python 3"
    },
    "language_info": {
      "name": "python"
    }
  },
  "cells": [
    {
      "cell_type": "markdown",
      "metadata": {
        "id": "view-in-github",
        "colab_type": "text"
      },
      "source": [
        "<a href=\"https://colab.research.google.com/github/akankshakusf/LLM-Mini-Projects/blob/master/4.Hugging_FacePipelines.ipynb\" target=\"_parent\"><img src=\"https://colab.research.google.com/assets/colab-badge.svg\" alt=\"Open In Colab\"/></a>"
      ]
    },
    {
      "cell_type": "code",
      "execution_count": 1,
      "metadata": {
        "id": "kp5B9mTq5fZE"
      },
      "outputs": [],
      "source": [
        "from google.colab import userdata\n",
        "from huggingface_hub import login\n",
        "from transformers import AutoTokenizer"
      ]
    },
    {
      "cell_type": "code",
      "source": [
        "hf_token = userdata.get('HF_TOKEN')\n",
        "login(hf_token, add_to_git_credential=True)"
      ],
      "metadata": {
        "id": "f7lExVAdzPUh"
      },
      "execution_count": 2,
      "outputs": []
    },
    {
      "cell_type": "code",
      "source": [
        "#import tokenizer\n",
        "tokenizer = AutoTokenizer.from_pretrained('meta-llama/Meta-Llama-3-8B',trust_remote_code=True)"
      ],
      "metadata": {
        "id": "ME2GchC4zPNd"
      },
      "execution_count": 3,
      "outputs": []
    },
    {
      "cell_type": "code",
      "source": [
        "text = \"I am excited to see the how tokenizers work in LLMs\"\n",
        "\n",
        "#instantiate the tokenizer\n",
        "tokens=tokenizer.encode(text)\n",
        "tokens"
      ],
      "metadata": {
        "colab": {
          "base_uri": "https://localhost:8080/"
        },
        "id": "k1hqZxr3zPKV",
        "outputId": "5a921326-4297-48dd-c772-2c1937294869"
      },
      "execution_count": 4,
      "outputs": [
        {
          "output_type": "execute_result",
          "data": {
            "text/plain": [
              "[128000,\n",
              " 40,\n",
              " 1097,\n",
              " 12304,\n",
              " 311,\n",
              " 1518,\n",
              " 279,\n",
              " 1268,\n",
              " 4037,\n",
              " 12509,\n",
              " 990,\n",
              " 304,\n",
              " 445,\n",
              " 11237,\n",
              " 82]"
            ]
          },
          "metadata": {},
          "execution_count": 4
        }
      ]
    },
    {
      "cell_type": "code",
      "source": [
        "len(tokens)"
      ],
      "metadata": {
        "colab": {
          "base_uri": "https://localhost:8080/"
        },
        "id": "pznFnC2nzPG2",
        "outputId": "d06ea797-f315-4642-d12a-99f5d11a1509"
      },
      "execution_count": 6,
      "outputs": [
        {
          "output_type": "execute_result",
          "data": {
            "text/plain": [
              "15"
            ]
          },
          "metadata": {},
          "execution_count": 6
        }
      ]
    },
    {
      "cell_type": "code",
      "source": [
        "tokenizer.decode(tokens)"
      ],
      "metadata": {
        "colab": {
          "base_uri": "https://localhost:8080/",
          "height": 36
        },
        "id": "V6U-LsvFzPEC",
        "outputId": "c94c1d38-3f65-4727-a4a8-c7a5e14d650b"
      },
      "execution_count": 7,
      "outputs": [
        {
          "output_type": "execute_result",
          "data": {
            "text/plain": [
              "'<|begin_of_text|>I am excited to see the how tokenizers work in LLMs'"
            ],
            "application/vnd.google.colaboratory.intrinsic+json": {
              "type": "string"
            }
          },
          "metadata": {},
          "execution_count": 7
        }
      ]
    },
    {
      "cell_type": "code",
      "source": [
        "tokenizer.batch_decode(tokens)"
      ],
      "metadata": {
        "colab": {
          "base_uri": "https://localhost:8080/"
        },
        "id": "oTFgYauXzPA3",
        "outputId": "050ee4b7-2a0b-4954-88f9-4e295afc8a3a"
      },
      "execution_count": 8,
      "outputs": [
        {
          "output_type": "execute_result",
          "data": {
            "text/plain": [
              "['<|begin_of_text|>',\n",
              " 'I',\n",
              " ' am',\n",
              " ' excited',\n",
              " ' to',\n",
              " ' see',\n",
              " ' the',\n",
              " ' how',\n",
              " ' token',\n",
              " 'izers',\n",
              " ' work',\n",
              " ' in',\n",
              " ' L',\n",
              " 'LM',\n",
              " 's']"
            ]
          },
          "metadata": {},
          "execution_count": 8
        }
      ]
    },
    {
      "cell_type": "code",
      "source": [
        "#tokinizer vocal\n",
        "tokenizer.get_added_vocab()"
      ],
      "metadata": {
        "colab": {
          "base_uri": "https://localhost:8080/"
        },
        "id": "27CWfx5PzO9n",
        "outputId": "0b5db273-e82c-4b40-a391-76c2b94ba2d6"
      },
      "execution_count": 9,
      "outputs": [
        {
          "output_type": "execute_result",
          "data": {
            "text/plain": [
              "{'<|begin_of_text|>': 128000,\n",
              " '<|end_of_text|>': 128001,\n",
              " '<|reserved_special_token_0|>': 128002,\n",
              " '<|reserved_special_token_1|>': 128003,\n",
              " '<|reserved_special_token_2|>': 128004,\n",
              " '<|reserved_special_token_3|>': 128005,\n",
              " '<|start_header_id|>': 128006,\n",
              " '<|end_header_id|>': 128007,\n",
              " '<|reserved_special_token_4|>': 128008,\n",
              " '<|eot_id|>': 128009,\n",
              " '<|reserved_special_token_5|>': 128010,\n",
              " '<|reserved_special_token_6|>': 128011,\n",
              " '<|reserved_special_token_7|>': 128012,\n",
              " '<|reserved_special_token_8|>': 128013,\n",
              " '<|reserved_special_token_9|>': 128014,\n",
              " '<|reserved_special_token_10|>': 128015,\n",
              " '<|reserved_special_token_11|>': 128016,\n",
              " '<|reserved_special_token_12|>': 128017,\n",
              " '<|reserved_special_token_13|>': 128018,\n",
              " '<|reserved_special_token_14|>': 128019,\n",
              " '<|reserved_special_token_15|>': 128020,\n",
              " '<|reserved_special_token_16|>': 128021,\n",
              " '<|reserved_special_token_17|>': 128022,\n",
              " '<|reserved_special_token_18|>': 128023,\n",
              " '<|reserved_special_token_19|>': 128024,\n",
              " '<|reserved_special_token_20|>': 128025,\n",
              " '<|reserved_special_token_21|>': 128026,\n",
              " '<|reserved_special_token_22|>': 128027,\n",
              " '<|reserved_special_token_23|>': 128028,\n",
              " '<|reserved_special_token_24|>': 128029,\n",
              " '<|reserved_special_token_25|>': 128030,\n",
              " '<|reserved_special_token_26|>': 128031,\n",
              " '<|reserved_special_token_27|>': 128032,\n",
              " '<|reserved_special_token_28|>': 128033,\n",
              " '<|reserved_special_token_29|>': 128034,\n",
              " '<|reserved_special_token_30|>': 128035,\n",
              " '<|reserved_special_token_31|>': 128036,\n",
              " '<|reserved_special_token_32|>': 128037,\n",
              " '<|reserved_special_token_33|>': 128038,\n",
              " '<|reserved_special_token_34|>': 128039,\n",
              " '<|reserved_special_token_35|>': 128040,\n",
              " '<|reserved_special_token_36|>': 128041,\n",
              " '<|reserved_special_token_37|>': 128042,\n",
              " '<|reserved_special_token_38|>': 128043,\n",
              " '<|reserved_special_token_39|>': 128044,\n",
              " '<|reserved_special_token_40|>': 128045,\n",
              " '<|reserved_special_token_41|>': 128046,\n",
              " '<|reserved_special_token_42|>': 128047,\n",
              " '<|reserved_special_token_43|>': 128048,\n",
              " '<|reserved_special_token_44|>': 128049,\n",
              " '<|reserved_special_token_45|>': 128050,\n",
              " '<|reserved_special_token_46|>': 128051,\n",
              " '<|reserved_special_token_47|>': 128052,\n",
              " '<|reserved_special_token_48|>': 128053,\n",
              " '<|reserved_special_token_49|>': 128054,\n",
              " '<|reserved_special_token_50|>': 128055,\n",
              " '<|reserved_special_token_51|>': 128056,\n",
              " '<|reserved_special_token_52|>': 128057,\n",
              " '<|reserved_special_token_53|>': 128058,\n",
              " '<|reserved_special_token_54|>': 128059,\n",
              " '<|reserved_special_token_55|>': 128060,\n",
              " '<|reserved_special_token_56|>': 128061,\n",
              " '<|reserved_special_token_57|>': 128062,\n",
              " '<|reserved_special_token_58|>': 128063,\n",
              " '<|reserved_special_token_59|>': 128064,\n",
              " '<|reserved_special_token_60|>': 128065,\n",
              " '<|reserved_special_token_61|>': 128066,\n",
              " '<|reserved_special_token_62|>': 128067,\n",
              " '<|reserved_special_token_63|>': 128068,\n",
              " '<|reserved_special_token_64|>': 128069,\n",
              " '<|reserved_special_token_65|>': 128070,\n",
              " '<|reserved_special_token_66|>': 128071,\n",
              " '<|reserved_special_token_67|>': 128072,\n",
              " '<|reserved_special_token_68|>': 128073,\n",
              " '<|reserved_special_token_69|>': 128074,\n",
              " '<|reserved_special_token_70|>': 128075,\n",
              " '<|reserved_special_token_71|>': 128076,\n",
              " '<|reserved_special_token_72|>': 128077,\n",
              " '<|reserved_special_token_73|>': 128078,\n",
              " '<|reserved_special_token_74|>': 128079,\n",
              " '<|reserved_special_token_75|>': 128080,\n",
              " '<|reserved_special_token_76|>': 128081,\n",
              " '<|reserved_special_token_77|>': 128082,\n",
              " '<|reserved_special_token_78|>': 128083,\n",
              " '<|reserved_special_token_79|>': 128084,\n",
              " '<|reserved_special_token_80|>': 128085,\n",
              " '<|reserved_special_token_81|>': 128086,\n",
              " '<|reserved_special_token_82|>': 128087,\n",
              " '<|reserved_special_token_83|>': 128088,\n",
              " '<|reserved_special_token_84|>': 128089,\n",
              " '<|reserved_special_token_85|>': 128090,\n",
              " '<|reserved_special_token_86|>': 128091,\n",
              " '<|reserved_special_token_87|>': 128092,\n",
              " '<|reserved_special_token_88|>': 128093,\n",
              " '<|reserved_special_token_89|>': 128094,\n",
              " '<|reserved_special_token_90|>': 128095,\n",
              " '<|reserved_special_token_91|>': 128096,\n",
              " '<|reserved_special_token_92|>': 128097,\n",
              " '<|reserved_special_token_93|>': 128098,\n",
              " '<|reserved_special_token_94|>': 128099,\n",
              " '<|reserved_special_token_95|>': 128100,\n",
              " '<|reserved_special_token_96|>': 128101,\n",
              " '<|reserved_special_token_97|>': 128102,\n",
              " '<|reserved_special_token_98|>': 128103,\n",
              " '<|reserved_special_token_99|>': 128104,\n",
              " '<|reserved_special_token_100|>': 128105,\n",
              " '<|reserved_special_token_101|>': 128106,\n",
              " '<|reserved_special_token_102|>': 128107,\n",
              " '<|reserved_special_token_103|>': 128108,\n",
              " '<|reserved_special_token_104|>': 128109,\n",
              " '<|reserved_special_token_105|>': 128110,\n",
              " '<|reserved_special_token_106|>': 128111,\n",
              " '<|reserved_special_token_107|>': 128112,\n",
              " '<|reserved_special_token_108|>': 128113,\n",
              " '<|reserved_special_token_109|>': 128114,\n",
              " '<|reserved_special_token_110|>': 128115,\n",
              " '<|reserved_special_token_111|>': 128116,\n",
              " '<|reserved_special_token_112|>': 128117,\n",
              " '<|reserved_special_token_113|>': 128118,\n",
              " '<|reserved_special_token_114|>': 128119,\n",
              " '<|reserved_special_token_115|>': 128120,\n",
              " '<|reserved_special_token_116|>': 128121,\n",
              " '<|reserved_special_token_117|>': 128122,\n",
              " '<|reserved_special_token_118|>': 128123,\n",
              " '<|reserved_special_token_119|>': 128124,\n",
              " '<|reserved_special_token_120|>': 128125,\n",
              " '<|reserved_special_token_121|>': 128126,\n",
              " '<|reserved_special_token_122|>': 128127,\n",
              " '<|reserved_special_token_123|>': 128128,\n",
              " '<|reserved_special_token_124|>': 128129,\n",
              " '<|reserved_special_token_125|>': 128130,\n",
              " '<|reserved_special_token_126|>': 128131,\n",
              " '<|reserved_special_token_127|>': 128132,\n",
              " '<|reserved_special_token_128|>': 128133,\n",
              " '<|reserved_special_token_129|>': 128134,\n",
              " '<|reserved_special_token_130|>': 128135,\n",
              " '<|reserved_special_token_131|>': 128136,\n",
              " '<|reserved_special_token_132|>': 128137,\n",
              " '<|reserved_special_token_133|>': 128138,\n",
              " '<|reserved_special_token_134|>': 128139,\n",
              " '<|reserved_special_token_135|>': 128140,\n",
              " '<|reserved_special_token_136|>': 128141,\n",
              " '<|reserved_special_token_137|>': 128142,\n",
              " '<|reserved_special_token_138|>': 128143,\n",
              " '<|reserved_special_token_139|>': 128144,\n",
              " '<|reserved_special_token_140|>': 128145,\n",
              " '<|reserved_special_token_141|>': 128146,\n",
              " '<|reserved_special_token_142|>': 128147,\n",
              " '<|reserved_special_token_143|>': 128148,\n",
              " '<|reserved_special_token_144|>': 128149,\n",
              " '<|reserved_special_token_145|>': 128150,\n",
              " '<|reserved_special_token_146|>': 128151,\n",
              " '<|reserved_special_token_147|>': 128152,\n",
              " '<|reserved_special_token_148|>': 128153,\n",
              " '<|reserved_special_token_149|>': 128154,\n",
              " '<|reserved_special_token_150|>': 128155,\n",
              " '<|reserved_special_token_151|>': 128156,\n",
              " '<|reserved_special_token_152|>': 128157,\n",
              " '<|reserved_special_token_153|>': 128158,\n",
              " '<|reserved_special_token_154|>': 128159,\n",
              " '<|reserved_special_token_155|>': 128160,\n",
              " '<|reserved_special_token_156|>': 128161,\n",
              " '<|reserved_special_token_157|>': 128162,\n",
              " '<|reserved_special_token_158|>': 128163,\n",
              " '<|reserved_special_token_159|>': 128164,\n",
              " '<|reserved_special_token_160|>': 128165,\n",
              " '<|reserved_special_token_161|>': 128166,\n",
              " '<|reserved_special_token_162|>': 128167,\n",
              " '<|reserved_special_token_163|>': 128168,\n",
              " '<|reserved_special_token_164|>': 128169,\n",
              " '<|reserved_special_token_165|>': 128170,\n",
              " '<|reserved_special_token_166|>': 128171,\n",
              " '<|reserved_special_token_167|>': 128172,\n",
              " '<|reserved_special_token_168|>': 128173,\n",
              " '<|reserved_special_token_169|>': 128174,\n",
              " '<|reserved_special_token_170|>': 128175,\n",
              " '<|reserved_special_token_171|>': 128176,\n",
              " '<|reserved_special_token_172|>': 128177,\n",
              " '<|reserved_special_token_173|>': 128178,\n",
              " '<|reserved_special_token_174|>': 128179,\n",
              " '<|reserved_special_token_175|>': 128180,\n",
              " '<|reserved_special_token_176|>': 128181,\n",
              " '<|reserved_special_token_177|>': 128182,\n",
              " '<|reserved_special_token_178|>': 128183,\n",
              " '<|reserved_special_token_179|>': 128184,\n",
              " '<|reserved_special_token_180|>': 128185,\n",
              " '<|reserved_special_token_181|>': 128186,\n",
              " '<|reserved_special_token_182|>': 128187,\n",
              " '<|reserved_special_token_183|>': 128188,\n",
              " '<|reserved_special_token_184|>': 128189,\n",
              " '<|reserved_special_token_185|>': 128190,\n",
              " '<|reserved_special_token_186|>': 128191,\n",
              " '<|reserved_special_token_187|>': 128192,\n",
              " '<|reserved_special_token_188|>': 128193,\n",
              " '<|reserved_special_token_189|>': 128194,\n",
              " '<|reserved_special_token_190|>': 128195,\n",
              " '<|reserved_special_token_191|>': 128196,\n",
              " '<|reserved_special_token_192|>': 128197,\n",
              " '<|reserved_special_token_193|>': 128198,\n",
              " '<|reserved_special_token_194|>': 128199,\n",
              " '<|reserved_special_token_195|>': 128200,\n",
              " '<|reserved_special_token_196|>': 128201,\n",
              " '<|reserved_special_token_197|>': 128202,\n",
              " '<|reserved_special_token_198|>': 128203,\n",
              " '<|reserved_special_token_199|>': 128204,\n",
              " '<|reserved_special_token_200|>': 128205,\n",
              " '<|reserved_special_token_201|>': 128206,\n",
              " '<|reserved_special_token_202|>': 128207,\n",
              " '<|reserved_special_token_203|>': 128208,\n",
              " '<|reserved_special_token_204|>': 128209,\n",
              " '<|reserved_special_token_205|>': 128210,\n",
              " '<|reserved_special_token_206|>': 128211,\n",
              " '<|reserved_special_token_207|>': 128212,\n",
              " '<|reserved_special_token_208|>': 128213,\n",
              " '<|reserved_special_token_209|>': 128214,\n",
              " '<|reserved_special_token_210|>': 128215,\n",
              " '<|reserved_special_token_211|>': 128216,\n",
              " '<|reserved_special_token_212|>': 128217,\n",
              " '<|reserved_special_token_213|>': 128218,\n",
              " '<|reserved_special_token_214|>': 128219,\n",
              " '<|reserved_special_token_215|>': 128220,\n",
              " '<|reserved_special_token_216|>': 128221,\n",
              " '<|reserved_special_token_217|>': 128222,\n",
              " '<|reserved_special_token_218|>': 128223,\n",
              " '<|reserved_special_token_219|>': 128224,\n",
              " '<|reserved_special_token_220|>': 128225,\n",
              " '<|reserved_special_token_221|>': 128226,\n",
              " '<|reserved_special_token_222|>': 128227,\n",
              " '<|reserved_special_token_223|>': 128228,\n",
              " '<|reserved_special_token_224|>': 128229,\n",
              " '<|reserved_special_token_225|>': 128230,\n",
              " '<|reserved_special_token_226|>': 128231,\n",
              " '<|reserved_special_token_227|>': 128232,\n",
              " '<|reserved_special_token_228|>': 128233,\n",
              " '<|reserved_special_token_229|>': 128234,\n",
              " '<|reserved_special_token_230|>': 128235,\n",
              " '<|reserved_special_token_231|>': 128236,\n",
              " '<|reserved_special_token_232|>': 128237,\n",
              " '<|reserved_special_token_233|>': 128238,\n",
              " '<|reserved_special_token_234|>': 128239,\n",
              " '<|reserved_special_token_235|>': 128240,\n",
              " '<|reserved_special_token_236|>': 128241,\n",
              " '<|reserved_special_token_237|>': 128242,\n",
              " '<|reserved_special_token_238|>': 128243,\n",
              " '<|reserved_special_token_239|>': 128244,\n",
              " '<|reserved_special_token_240|>': 128245,\n",
              " '<|reserved_special_token_241|>': 128246,\n",
              " '<|reserved_special_token_242|>': 128247,\n",
              " '<|reserved_special_token_243|>': 128248,\n",
              " '<|reserved_special_token_244|>': 128249,\n",
              " '<|reserved_special_token_245|>': 128250,\n",
              " '<|reserved_special_token_246|>': 128251,\n",
              " '<|reserved_special_token_247|>': 128252,\n",
              " '<|reserved_special_token_248|>': 128253,\n",
              " '<|reserved_special_token_249|>': 128254,\n",
              " '<|reserved_special_token_250|>': 128255}"
            ]
          },
          "metadata": {},
          "execution_count": 9
        }
      ]
    },
    {
      "cell_type": "markdown",
      "source": [
        "# Instruct variants of models"
      ],
      "metadata": {
        "id": "M4atN9Yl5Lru"
      }
    },
    {
      "cell_type": "code",
      "source": [
        "tokenizer = AutoTokenizer.from_pretrained('meta-llama/Meta-Llama-3-8B-Instruct', trust_remote_code=True)"
      ],
      "metadata": {
        "id": "p-pBM0AIzO6O"
      },
      "execution_count": 18,
      "outputs": []
    },
    {
      "cell_type": "code",
      "source": [
        "messages = [\n",
        "    {\"role\":\"system\",\"content\":\"You are a helpful assistant\"},\n",
        "    {\"role\":\"user\",\"content\":\"Tell a light-heighted joke for a room of Data Scientist\"}\n",
        "]\n",
        "\n",
        "prompt = tokenizer.apply_chat_template(messages, tokenize=False, add_generation_prompt=True)\n",
        "print(prompt)"
      ],
      "metadata": {
        "colab": {
          "base_uri": "https://localhost:8080/"
        },
        "id": "Mp7C_TszzO23",
        "outputId": "545aaccc-2dd1-4216-f4ff-bdcb56a5f601"
      },
      "execution_count": 19,
      "outputs": [
        {
          "output_type": "stream",
          "name": "stdout",
          "text": [
            "<|begin_of_text|><|start_header_id|>system<|end_header_id|>\n",
            "\n",
            "You are a helpful assistant<|eot_id|><|start_header_id|>user<|end_header_id|>\n",
            "\n",
            "Tell a light-heighted joke for a room of Data Scientist<|eot_id|><|start_header_id|>assistant<|end_header_id|>\n",
            "\n",
            "\n"
          ]
        }
      ]
    },
    {
      "cell_type": "markdown",
      "source": [
        "# Trying new models"
      ],
      "metadata": {
        "id": "SUHsCCYI6o0p"
      }
    },
    {
      "cell_type": "code",
      "source": [
        "PHI3_MODEL_NAME = \"microsoft/Phi-3-mini-4k-instruct\"\n",
        "QWEN2_MODEL_NAME = \"Qwen/Qwen2-7B-Instruct\"\n",
        "STARCODER2_MODEL_NAME = \"bigcode/starcoder2-3b\""
      ],
      "metadata": {
        "id": "irT2Rh0BzOzp"
      },
      "execution_count": 20,
      "outputs": []
    },
    {
      "cell_type": "code",
      "source": [
        "#instantiate phi model\n",
        "phi3_tokenizer = AutoTokenizer.from_pretrained(PHI3_MODEL_NAME)\n",
        "text = \"I am excited to see how the tokenizers work\"\n",
        "\n",
        "tokens= phi3_tokenizer.encode(text)\n",
        "print(phi3_tokenizer.batch_decode(tokens))"
      ],
      "metadata": {
        "colab": {
          "base_uri": "https://localhost:8080/"
        },
        "id": "zPCFpOtUzOwb",
        "outputId": "b5b63fb0-7e07-42a0-a69f-5ee3f07073a2"
      },
      "execution_count": 21,
      "outputs": [
        {
          "output_type": "stream",
          "name": "stdout",
          "text": [
            "['I', 'am', 'excited', 'to', 'see', 'how', 'the', 'token', 'izers', 'work']\n"
          ]
        }
      ]
    },
    {
      "cell_type": "code",
      "source": [
        "print(tokenizer.apply_chat_template(messages, tokenize=False, add_generation_prompt=True))\n",
        "print()\n",
        "print(phi3_tokenizer.apply_chat_template(messages,tokenize = False, add_generation_prompt = True))"
      ],
      "metadata": {
        "colab": {
          "base_uri": "https://localhost:8080/"
        },
        "id": "8VKu-xtyzOtb",
        "outputId": "ec64df7e-41c3-409f-ff8f-ca60ed46c712"
      },
      "execution_count": 14,
      "outputs": [
        {
          "output_type": "stream",
          "name": "stdout",
          "text": [
            "<|begin_of_text|><|start_header_id|>system<|end_header_id|>\n",
            "\n",
            "You are a helpful assistant<|eot_id|><|start_header_id|>user<|end_header_id|>\n",
            "\n",
            "Tell a light-heighted joke for a room of Data Scientist<|eot_id|><|start_header_id|>assistant<|end_header_id|>\n",
            "\n",
            "\n",
            "\n",
            "<|system|>\n",
            "You are a helpful assistant<|end|>\n",
            "<|user|>\n",
            "Tell a light-heighted joke for a room of Data Scientist<|end|>\n",
            "<|assistant|>\n",
            "\n"
          ]
        }
      ]
    },
    {
      "cell_type": "code",
      "source": [
        "qwen2_tokenizer = AutoTokenizer.from_pretrained(QWEN2_MODEL_NAME)\n",
        "\n",
        "text = \"I am excited to see how the tokenizers work\"\n",
        "print(tokenizer.encode(text))\n",
        "print()\n",
        "print(phi3_tokenizer.encode(text))\n",
        "print()\n",
        "print(qwen2_tokenizer.encode(text))"
      ],
      "metadata": {
        "colab": {
          "base_uri": "https://localhost:8080/"
        },
        "id": "9bubRQjkzOqU",
        "outputId": "379aa52d-bab4-4829-c65f-aeec00660165"
      },
      "execution_count": 22,
      "outputs": [
        {
          "output_type": "stream",
          "name": "stdout",
          "text": [
            "[128000, 40, 1097, 12304, 311, 1518, 1268, 279, 4037, 12509, 990]\n",
            "\n",
            "[306, 626, 24173, 304, 1074, 920, 278, 5993, 19427, 664]\n",
            "\n",
            "[40, 1079, 12035, 311, 1490, 1246, 279, 3950, 12230, 975]\n"
          ]
        }
      ]
    },
    {
      "cell_type": "code",
      "source": [
        "print(tokenizer.apply_chat_template(messages, tokenize=False, add_generation_prompt=True))\n",
        "print()\n",
        "print(phi3_tokenizer.apply_chat_template(messages, tokenize=False, add_generation_prompt=True))\n",
        "print()\n",
        "print(qwen2_tokenizer.apply_chat_template(messages, tokenize=False, add_generation_prompt=True))"
      ],
      "metadata": {
        "colab": {
          "base_uri": "https://localhost:8080/"
        },
        "id": "cRcb8wqizOnW",
        "outputId": "f95c14b7-29af-46a6-c5d6-03271512dd16"
      },
      "execution_count": 16,
      "outputs": [
        {
          "output_type": "stream",
          "name": "stdout",
          "text": [
            "<|begin_of_text|><|start_header_id|>system<|end_header_id|>\n",
            "\n",
            "You are a helpful assistant<|eot_id|><|start_header_id|>user<|end_header_id|>\n",
            "\n",
            "Tell a light-heighted joke for a room of Data Scientist<|eot_id|><|start_header_id|>assistant<|end_header_id|>\n",
            "\n",
            "\n",
            "\n",
            "<|system|>\n",
            "You are a helpful assistant<|end|>\n",
            "<|user|>\n",
            "Tell a light-heighted joke for a room of Data Scientist<|end|>\n",
            "<|assistant|>\n",
            "\n",
            "\n",
            "<|im_start|>system\n",
            "You are a helpful assistant<|im_end|>\n",
            "<|im_start|>user\n",
            "Tell a light-heighted joke for a room of Data Scientist<|im_end|>\n",
            "<|im_start|>assistant\n",
            "\n"
          ]
        }
      ]
    },
    {
      "cell_type": "code",
      "source": [
        "starcoder2_tokenizer = AutoTokenizer.from_pretrained(STARCODER2_MODEL_NAME, trust_remote_code=True)\n",
        "code = \"\"\"\n",
        "def hello_world(person):\n",
        "  print(\"Hello\", person)\n",
        "\"\"\"\n",
        "tokens = starcoder2_tokenizer.encode(code)\n",
        "for token in tokens:\n",
        "  print(f\"{token}={starcoder2_tokenizer.decode(token)}\")"
      ],
      "metadata": {
        "colab": {
          "base_uri": "https://localhost:8080/"
        },
        "id": "arpWhwxvzOj-",
        "outputId": "24b749ca-1dcb-446d-f0bc-693cb15a7529"
      },
      "execution_count": 23,
      "outputs": [
        {
          "output_type": "stream",
          "name": "stdout",
          "text": [
            "222=\n",
            "\n",
            "610=def\n",
            "17966= hello\n",
            "100=_\n",
            "5879=world\n",
            "45=(\n",
            "6427=person\n",
            "731=):\n",
            "353=\n",
            " \n",
            "1489= print\n",
            "459=(\"\n",
            "8302=Hello\n",
            "411=\",\n",
            "4944= person\n",
            "46=)\n",
            "222=\n",
            "\n"
          ]
        }
      ]
    },
    {
      "cell_type": "code",
      "source": [],
      "metadata": {
        "id": "5xA3d7O2zOg-"
      },
      "execution_count": null,
      "outputs": []
    },
    {
      "cell_type": "code",
      "source": [],
      "metadata": {
        "id": "Bqrd_6JxzOd5"
      },
      "execution_count": null,
      "outputs": []
    },
    {
      "cell_type": "code",
      "source": [],
      "metadata": {
        "id": "WBcZ78U4zOav"
      },
      "execution_count": null,
      "outputs": []
    },
    {
      "cell_type": "code",
      "source": [],
      "metadata": {
        "id": "gkumwdCJzOVP"
      },
      "execution_count": null,
      "outputs": []
    },
    {
      "cell_type": "code",
      "source": [],
      "metadata": {
        "id": "8J2TJCFnzOR4"
      },
      "execution_count": null,
      "outputs": []
    },
    {
      "cell_type": "code",
      "source": [],
      "metadata": {
        "id": "dJr1G4EMzOO-"
      },
      "execution_count": null,
      "outputs": []
    },
    {
      "cell_type": "code",
      "source": [],
      "metadata": {
        "id": "oMW6RCv0zOLl"
      },
      "execution_count": null,
      "outputs": []
    }
  ]
}