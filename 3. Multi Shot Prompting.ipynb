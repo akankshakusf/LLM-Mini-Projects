{
 "cells": [
  {
   "cell_type": "markdown",
   "id": "a696546e",
   "metadata": {},
   "source": [
    "# Conversational AI - aka Chatbot!"
   ]
  },
  {
   "cell_type": "code",
   "execution_count": 4,
   "id": "86415e58",
   "metadata": {},
   "outputs": [],
   "source": [
    "import os \n",
    "from dotenv import load_dotenv\n",
    "\n",
    "from openai import OpenAI\n",
    "import gradio as gr"
   ]
  },
  {
   "cell_type": "code",
   "execution_count": 5,
   "id": "d2a33077",
   "metadata": {},
   "outputs": [],
   "source": [
    "#load environment variables from .env file\n",
    "\n",
    "load_dotenv()\n",
    "os.environ[\"OPENAI_API_KEY\"] = os.getenv(\"OPENAI_API_KEY\")\n",
    "os.environ[\"ANTHROPIC_API_KEY\"] = os.getenv(\"ANTHROPIC_API_KEY\")\n",
    "os.environ[\"GOOGLE_API_KEY\"]= os.getenv(\"GOOGLE_API_KEY\")"
   ]
  },
  {
   "cell_type": "code",
   "execution_count": null,
   "id": "bc26de3f",
   "metadata": {},
   "outputs": [],
   "source": [
    "#instantiate OpenAI Model \n",
    "openai = OpenAI()\n",
    "MODEL = \"gpt-4o-mini\""
   ]
  },
  {
   "cell_type": "markdown",
   "id": "a60010e0",
   "metadata": {},
   "source": [
    "* Draft System Message "
   ]
  },
  {
   "cell_type": "code",
   "execution_count": 7,
   "id": "580852cf",
   "metadata": {},
   "outputs": [],
   "source": [
    "system_message = \"You are a helpful assistant.\""
   ]
  },
  {
   "cell_type": "markdown",
   "id": "7610b352",
   "metadata": {},
   "source": [
    "- reference prompt template : https://www.gradio.app/guides/creating-a-chatbot-fast"
   ]
  },
  {
   "cell_type": "code",
   "execution_count": 12,
   "id": "d58b7782",
   "metadata": {},
   "outputs": [],
   "source": [
    "# when we use yield at the end it becomes generator and not\n",
    "def chat(message,history):\n",
    "    messages = [{\"role\":\"system\",\"content\":system_message}]\n",
    "    for user_message, assistant_message in history:\n",
    "        messages.append({\"role\":\"user\",\"content\":user_message})\n",
    "        messages.append({\"role\":\"assistant\",\"content\":assistant_message})\n",
    "    messages.append({\"role\":\"user\",\"content\":message})\n",
    "\n",
    "\n",
    "    print(\"History is:\")\n",
    "    print(history)\n",
    "    print(\"And message is:\")\n",
    "    print(messages)\n",
    "\n",
    "    stream = openai.chat.completions.create(\n",
    "        model = MODEL,\n",
    "        messages= messages,\n",
    "        stream= True\n",
    "    )\n",
    "\n",
    "    response = \"\" \n",
    "    for chunk in stream:\n",
    "        response += chunk.choices[0].delta.content or ''\n",
    "        yield response                  \n",
    "                    \n"
   ]
  },
  {
   "cell_type": "markdown",
   "id": "3baae7d4",
   "metadata": {},
   "source": [
    "* Design the UI : https://www.gradio.app/guides/creating-a-chatbot-fast"
   ]
  },
  {
   "cell_type": "code",
   "execution_count": null,
   "id": "f6d8024f",
   "metadata": {},
   "outputs": [
    {
     "name": "stderr",
     "output_type": "stream",
     "text": [
      "c:\\Users\\akush\\anaconda3\\envs\\llms\\Lib\\site-packages\\gradio\\chat_interface.py:334: UserWarning: The 'tuples' format for chatbot messages is deprecated and will be removed in a future version of Gradio. Please set type='messages' instead, which uses openai-style 'role' and 'content' keys.\n",
      "  self.chatbot = Chatbot(\n"
     ]
    },
    {
     "name": "stdout",
     "output_type": "stream",
     "text": [
      "* Running on local URL:  http://127.0.0.1:7887\n",
      "\n",
      "To create a public link, set `share=True` in `launch()`.\n"
     ]
    },
    {
     "data": {
      "text/html": [
       "<div><iframe src=\"http://127.0.0.1:7887/\" width=\"100%\" height=\"500\" allow=\"autoplay; camera; microphone; clipboard-read; clipboard-write;\" frameborder=\"0\" allowfullscreen></iframe></div>"
      ],
      "text/plain": [
       "<IPython.core.display.HTML object>"
      ]
     },
     "metadata": {},
     "output_type": "display_data"
    },
    {
     "data": {
      "text/plain": []
     },
     "execution_count": 13,
     "metadata": {},
     "output_type": "execute_result"
    },
    {
     "name": "stdout",
     "output_type": "stream",
     "text": [
      "History is:\n",
      "[]\n",
      "And message is:\n",
      "[{'role': 'system', 'content': 'You are a helpful assistant.'}, {'role': 'user', 'content': 'hi '}]\n",
      "History is:\n",
      "[]\n",
      "And message is:\n",
      "[{'role': 'system', 'content': 'You are a helpful assistant.'}, {'role': 'user', 'content': 'hi '}]\n",
      "History is:\n",
      "[['hi ', 'Hello! How can I assist you today?']]\n",
      "And message is:\n",
      "[{'role': 'system', 'content': 'You are a helpful assistant.'}, {'role': 'user', 'content': 'hi '}, {'role': 'assistant', 'content': 'Hello! How can I assist you today?'}, {'role': 'user', 'content': 'i want to buy a tie '}]\n",
      "History is:\n",
      "[['hi ', 'Hello! How can I assist you today?'], ['i want to buy a tie ', 'Great! Here are a few things to consider when buying a tie:\\n\\n1. **Occasion**: Are you looking for a tie for a formal event, business attire, or casual wear?\\n\\n2. **Material**: Ties come in various materials, including silk, cotton, wool, and synthetic fabrics. Silk ties tend to be more formal.\\n\\n3. **Color and Pattern**: Consider what colors will match your outfits. Solid colors, stripes, polka dots, and paisley patterns are popular choices.\\n\\n4. **Width**: Tie widths can vary. A wider tie may be more suitable for larger frames, while a narrower one can be stylish for slimmer builds.\\n\\n5. **Length**: Ensure the tie is the right length for your height. Most standard ties are around 57-58 inches long.\\n\\n6. **Style**: Decide on the style of knot you prefer to wear, such as a classic knot, Windsor knot, or bow tie.\\n\\nIf you have specific preferences or need recommendations for stores or brands, let me know!']]\n",
      "And message is:\n",
      "[{'role': 'system', 'content': 'You are a helpful assistant.'}, {'role': 'user', 'content': 'hi '}, {'role': 'assistant', 'content': 'Hello! How can I assist you today?'}, {'role': 'user', 'content': 'i want to buy a tie '}, {'role': 'assistant', 'content': 'Great! Here are a few things to consider when buying a tie:\\n\\n1. **Occasion**: Are you looking for a tie for a formal event, business attire, or casual wear?\\n\\n2. **Material**: Ties come in various materials, including silk, cotton, wool, and synthetic fabrics. Silk ties tend to be more formal.\\n\\n3. **Color and Pattern**: Consider what colors will match your outfits. Solid colors, stripes, polka dots, and paisley patterns are popular choices.\\n\\n4. **Width**: Tie widths can vary. A wider tie may be more suitable for larger frames, while a narrower one can be stylish for slimmer builds.\\n\\n5. **Length**: Ensure the tie is the right length for your height. Most standard ties are around 57-58 inches long.\\n\\n6. **Style**: Decide on the style of knot you prefer to wear, such as a classic knot, Windsor knot, or bow tie.\\n\\nIf you have specific preferences or need recommendations for stores or brands, let me know!'}, {'role': 'user', 'content': 'oh Thanks '}]\n"
     ]
    }
   ],
   "source": [
    "gr.ChatInterface(fn=chat).launch()"
   ]
  },
  {
   "cell_type": "markdown",
   "id": "47f163c0",
   "metadata": {},
   "source": [
    "# Multi Shot Prompting "
   ]
  },
  {
   "cell_type": "markdown",
   "id": "2f0117b4",
   "metadata": {},
   "source": [
    "* prompt 1"
   ]
  },
  {
   "cell_type": "code",
   "execution_count": 14,
   "id": "d159241d",
   "metadata": {},
   "outputs": [],
   "source": [
    "system_message = \"You are a helpful assistant in a clothes store. You should try to gently encourage \\\n",
    "    the customer to try items that are on sale. Hats are 60% off , and most other items are 50% off.\\\n",
    "    For Example, if the Customer says, I'am Looking to buy a hat',\\\n",
    "    you could reply something like, 'Wonderful - we have lots of hats - including several that are part of our sales event.\\\n",
    "    Encourage the customer to buy hats if they are unsure what to to get\""
   ]
  },
  {
   "cell_type": "code",
   "execution_count": 15,
   "id": "648bdcc1",
   "metadata": {},
   "outputs": [],
   "source": [
    "def chat(message,history):\n",
    "    messages = [{\"role\":\"system\",\"content\":system_message}]\n",
    "    for user_message, assistant_message in history:\n",
    "        messages.append({\"role\":\"user\",\"content\":user_message})\n",
    "        messages.append({\"role\":\"assistant\",\"content\":assistant_message})\n",
    "    messages.append({\"role\":\"user\",\"content\":message})\n",
    "\n",
    "    stream = openai.chat.completions.create(\n",
    "        model = MODEL,\n",
    "        messages = messages,\n",
    "        stream = True\n",
    "    )\n",
    "\n",
    "    response = \"\"\n",
    "    for chunk in stream:\n",
    "        response += chunk.choices[0].delta.content or ''\n",
    "        yield response\n"
   ]
  },
  {
   "cell_type": "code",
   "execution_count": 16,
   "id": "0d0dcd48",
   "metadata": {},
   "outputs": [
    {
     "name": "stderr",
     "output_type": "stream",
     "text": [
      "c:\\Users\\akush\\anaconda3\\envs\\llms\\Lib\\site-packages\\gradio\\chat_interface.py:334: UserWarning: The 'tuples' format for chatbot messages is deprecated and will be removed in a future version of Gradio. Please set type='messages' instead, which uses openai-style 'role' and 'content' keys.\n",
      "  self.chatbot = Chatbot(\n"
     ]
    },
    {
     "name": "stdout",
     "output_type": "stream",
     "text": [
      "* Running on local URL:  http://127.0.0.1:7888\n",
      "\n",
      "To create a public link, set `share=True` in `launch()`.\n"
     ]
    },
    {
     "data": {
      "text/html": [
       "<div><iframe src=\"http://127.0.0.1:7888/\" width=\"100%\" height=\"500\" allow=\"autoplay; camera; microphone; clipboard-read; clipboard-write;\" frameborder=\"0\" allowfullscreen></iframe></div>"
      ],
      "text/plain": [
       "<IPython.core.display.HTML object>"
      ]
     },
     "metadata": {},
     "output_type": "display_data"
    },
    {
     "data": {
      "text/plain": []
     },
     "execution_count": 16,
     "metadata": {},
     "output_type": "execute_result"
    }
   ],
   "source": [
    "gr.ChatInterface(fn=chat).launch()"
   ]
  },
  {
   "cell_type": "markdown",
   "id": "c74f81e0",
   "metadata": {},
   "source": [
    "* Prompt 2"
   ]
  },
  {
   "cell_type": "code",
   "execution_count": 17,
   "id": "8a2e75b6",
   "metadata": {},
   "outputs": [],
   "source": [
    "system_message = \"\\n If the customer asks for shoes, you could respond that shoes are not on sale today,\\\n",
    "    but remind the customer to look at hats!\""
   ]
  },
  {
   "cell_type": "code",
   "execution_count": 18,
   "id": "001c94f0",
   "metadata": {},
   "outputs": [
    {
     "name": "stderr",
     "output_type": "stream",
     "text": [
      "c:\\Users\\akush\\anaconda3\\envs\\llms\\Lib\\site-packages\\gradio\\chat_interface.py:334: UserWarning: The 'tuples' format for chatbot messages is deprecated and will be removed in a future version of Gradio. Please set type='messages' instead, which uses openai-style 'role' and 'content' keys.\n",
      "  self.chatbot = Chatbot(\n"
     ]
    },
    {
     "name": "stdout",
     "output_type": "stream",
     "text": [
      "* Running on local URL:  http://127.0.0.1:7889\n",
      "\n",
      "To create a public link, set `share=True` in `launch()`.\n"
     ]
    },
    {
     "data": {
      "text/html": [
       "<div><iframe src=\"http://127.0.0.1:7889/\" width=\"100%\" height=\"500\" allow=\"autoplay; camera; microphone; clipboard-read; clipboard-write;\" frameborder=\"0\" allowfullscreen></iframe></div>"
      ],
      "text/plain": [
       "<IPython.core.display.HTML object>"
      ]
     },
     "metadata": {},
     "output_type": "display_data"
    },
    {
     "data": {
      "text/plain": []
     },
     "execution_count": 18,
     "metadata": {},
     "output_type": "execute_result"
    }
   ],
   "source": [
    "gr.ChatInterface(fn=chat).launch()"
   ]
  },
  {
   "cell_type": "markdown",
   "id": "eef9f987",
   "metadata": {},
   "source": [
    "* Prompt 3 - although this is not optimal way of adding prompt. This is just testing."
   ]
  },
  {
   "cell_type": "code",
   "execution_count": 19,
   "id": "e46b7f36",
   "metadata": {},
   "outputs": [],
   "source": [
    "def chat(message,history):\n",
    "    messages = [{\"role\":\"system\",\"content\":system_message}]\n",
    "    for user_message, assistant_message in history:\n",
    "        messages.append({\"role\":\"user\",\"content\":user_message})\n",
    "        messages.append({\"role\":\"assistant\",\"content\":assistant_message})\n",
    "    messages.append({\"role\":\"user\",\"content\":message})\n",
    "\n",
    "    if 'belt' in message:\n",
    "        messages.append({\"role\":\"system\",\"content\": \"For added context, the shore does not sell belts,\\\n",
    "                         but be sure to point other items on sale\"})\n",
    "\n",
    "    stream = openai.chat.completions.create(\n",
    "        model = MODEL,\n",
    "        messages = messages,\n",
    "        stream = True\n",
    "    )\n",
    "\n",
    "    response = \"\"\n",
    "    for chunk in stream:\n",
    "        response += chunk.choices[0].delta.content or ''\n",
    "        yield response\n"
   ]
  },
  {
   "cell_type": "code",
   "execution_count": 20,
   "id": "072c56a0",
   "metadata": {},
   "outputs": [
    {
     "name": "stderr",
     "output_type": "stream",
     "text": [
      "c:\\Users\\akush\\anaconda3\\envs\\llms\\Lib\\site-packages\\gradio\\chat_interface.py:334: UserWarning: The 'tuples' format for chatbot messages is deprecated and will be removed in a future version of Gradio. Please set type='messages' instead, which uses openai-style 'role' and 'content' keys.\n",
      "  self.chatbot = Chatbot(\n"
     ]
    },
    {
     "name": "stdout",
     "output_type": "stream",
     "text": [
      "* Running on local URL:  http://127.0.0.1:7890\n",
      "\n",
      "To create a public link, set `share=True` in `launch()`.\n"
     ]
    },
    {
     "data": {
      "text/html": [
       "<div><iframe src=\"http://127.0.0.1:7890/\" width=\"100%\" height=\"500\" allow=\"autoplay; camera; microphone; clipboard-read; clipboard-write;\" frameborder=\"0\" allowfullscreen></iframe></div>"
      ],
      "text/plain": [
       "<IPython.core.display.HTML object>"
      ]
     },
     "metadata": {},
     "output_type": "display_data"
    },
    {
     "data": {
      "text/plain": []
     },
     "execution_count": 20,
     "metadata": {},
     "output_type": "execute_result"
    }
   ],
   "source": [
    "gr.ChatInterface(fn=chat).launch()"
   ]
  },
  {
   "cell_type": "code",
   "execution_count": null,
   "id": "6de6c047",
   "metadata": {},
   "outputs": [],
   "source": []
  }
 ],
 "metadata": {
  "kernelspec": {
   "display_name": "llms",
   "language": "python",
   "name": "python3"
  },
  "language_info": {
   "codemirror_mode": {
    "name": "ipython",
    "version": 3
   },
   "file_extension": ".py",
   "mimetype": "text/x-python",
   "name": "python",
   "nbconvert_exporter": "python",
   "pygments_lexer": "ipython3",
   "version": "3.11.11"
  }
 },
 "nbformat": 4,
 "nbformat_minor": 5
}
